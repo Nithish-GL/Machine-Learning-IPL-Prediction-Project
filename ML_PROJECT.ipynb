{
  "nbformat": 4,
  "nbformat_minor": 0,
  "metadata": {
    "colab": {
      "provenance": [],
      "authorship_tag": "ABX9TyPNfd9pu+tiYREGE22vF398",
      "include_colab_link": true
    },
    "kernelspec": {
      "name": "python3",
      "display_name": "Python 3"
    },
    "language_info": {
      "name": "python"
    }
  },
  "cells": [
    {
      "cell_type": "markdown",
      "metadata": {
        "id": "view-in-github",
        "colab_type": "text"
      },
      "source": [
        "<a href=\"https://colab.research.google.com/github/Nithish-GL/Machine-Learning-IPL-Prediction-Project/blob/main/ML_PROJECT.ipynb\" target=\"_parent\"><img src=\"https://colab.research.google.com/assets/colab-badge.svg\" alt=\"Open In Colab\"/></a>"
      ]
    },
    {
      "cell_type": "markdown",
      "source": [
        "IPL MATCHES PREDICTIONS\n"
      ],
      "metadata": {
        "id": "5SKwi6PxgE-v"
      }
    },
    {
      "cell_type": "markdown",
      "source": [
        "Step 01 : Importing the Libraries"
      ],
      "metadata": {
        "id": "ykQgXs1XLYHD"
      }
    },
    {
      "cell_type": "code",
      "execution_count": null,
      "metadata": {
        "id": "_k4nwPzDeMYZ"
      },
      "outputs": [],
      "source": [
        "# Import necessary libraries\n",
        "import pandas as pd\n",
        "import numpy as np\n",
        "from sklearn.model_selection import train_test_split, cross_val_score\n",
        "from sklearn.preprocessing import StandardScaler, LabelEncoder\n",
        "from sklearn.preprocessing import StandardScaler\n",
        "from sklearn.metrics import accuracy_score\n",
        "from sklearn.ensemble import RandomForestClassifier\n",
        "from sklearn.svm import SVC\n",
        "from sklearn.linear_model import LogisticRegression\n",
        "from sklearn.tree import DecisionTreeClassifier\n",
        "from sklearn.neighbors import KNeighborsClassifier\n",
        "from sklearn.naive_bayes import GaussianNB\n",
        "import warnings"
      ]
    },
    {
      "cell_type": "code",
      "source": [
        "warnings.filterwarnings(\"ignore\")"
      ],
      "metadata": {
        "id": "Xo5G_pD8gek4"
      },
      "execution_count": null,
      "outputs": []
    },
    {
      "cell_type": "markdown",
      "source": [
        " warning.filterwarnings(\"ignore\")\n",
        "\n",
        " used to suppress warning messages that Python or external libraries might generate during the execution of your script. While warnings do not stop the program from running, they can clutter the console output.\n",
        "\n",
        " Reason like :-\n",
        "\n",
        " 1.unnecesary output\n",
        "\n",
        " 2.Library-Specific warnings\n",
        "\n",
        " 3.Focus on output"
      ],
      "metadata": {
        "id": "tVzp9E5vMla6"
      }
    },
    {
      "cell_type": "code",
      "source": [
        "#step 02 : Load the dataset\n",
        "url = '/content/ipl-matches.csv'\n",
        "data = pd.read_csv(url)"
      ],
      "metadata": {
        "id": "p1kL4y2Tgoqe"
      },
      "execution_count": null,
      "outputs": []
    },
    {
      "cell_type": "markdown",
      "source": [
        "step 03 : check the data"
      ],
      "metadata": {
        "id": "VtgHxesPOaD7"
      }
    },
    {
      "cell_type": "code",
      "source": [
        "# Check the data\n",
        "print(data.head())"
      ],
      "metadata": {
        "colab": {
          "base_uri": "https://localhost:8080/"
        },
        "id": "ggtWxkdJg2fH",
        "outputId": "07fb9be5-c5d1-47e5-c35a-5590f83f2bc5"
      },
      "execution_count": null,
      "outputs": [
        {
          "output_type": "stream",
          "name": "stdout",
          "text": [
            "        ID       City        Date Season  MatchNumber  \\\n",
            "0  1312200  Ahmedabad  2022-05-29   2022        Final   \n",
            "1  1312199  Ahmedabad  2022-05-27   2022  Qualifier 2   \n",
            "2  1312198    Kolkata  2022-05-25   2022   Eliminator   \n",
            "3  1312197    Kolkata  2022-05-24   2022  Qualifier 1   \n",
            "4  1304116     Mumbai  2022-05-22   2022           70   \n",
            "\n",
            "                         Team1                 Team2  \\\n",
            "0             Rajasthan Royals        Gujarat Titans   \n",
            "1  Royal Challengers Bangalore      Rajasthan Royals   \n",
            "2  Royal Challengers Bangalore  Lucknow Super Giants   \n",
            "3             Rajasthan Royals        Gujarat Titans   \n",
            "4          Sunrisers Hyderabad          Punjab Kings   \n",
            "\n",
            "                              Venue            TossWinner TossDecision  \\\n",
            "0  Narendra Modi Stadium, Ahmedabad      Rajasthan Royals          bat   \n",
            "1  Narendra Modi Stadium, Ahmedabad      Rajasthan Royals        field   \n",
            "2             Eden Gardens, Kolkata  Lucknow Super Giants        field   \n",
            "3             Eden Gardens, Kolkata        Gujarat Titans        field   \n",
            "4          Wankhede Stadium, Mumbai   Sunrisers Hyderabad          bat   \n",
            "\n",
            "  SuperOver                  WinningTeam    WonBy  Margin method  \\\n",
            "0         N               Gujarat Titans  Wickets     7.0    NaN   \n",
            "1         N             Rajasthan Royals  Wickets     7.0    NaN   \n",
            "2         N  Royal Challengers Bangalore     Runs    14.0    NaN   \n",
            "3         N               Gujarat Titans  Wickets     7.0    NaN   \n",
            "4         N                 Punjab Kings  Wickets     5.0    NaN   \n",
            "\n",
            "  Player_of_Match                                       Team1Players  \\\n",
            "0       HH Pandya  ['YBK Jaiswal', 'JC Buttler', 'SV Samson', 'D ...   \n",
            "1      JC Buttler  ['V Kohli', 'F du Plessis', 'RM Patidar', 'GJ ...   \n",
            "2      RM Patidar  ['V Kohli', 'F du Plessis', 'RM Patidar', 'GJ ...   \n",
            "3       DA Miller  ['YBK Jaiswal', 'JC Buttler', 'SV Samson', 'D ...   \n",
            "4   Harpreet Brar  ['PK Garg', 'Abhishek Sharma', 'RA Tripathi', ...   \n",
            "\n",
            "                                        Team2Players        Umpire1  \\\n",
            "0  ['WP Saha', 'Shubman Gill', 'MS Wade', 'HH Pan...    CB Gaffaney   \n",
            "1  ['YBK Jaiswal', 'JC Buttler', 'SV Samson', 'D ...    CB Gaffaney   \n",
            "2  ['Q de Kock', 'KL Rahul', 'M Vohra', 'DJ Hooda...  J Madanagopal   \n",
            "3  ['WP Saha', 'Shubman Gill', 'MS Wade', 'HH Pan...   BNJ Oxenford   \n",
            "4  ['JM Bairstow', 'S Dhawan', 'M Shahrukh Khan',...   AK Chaudhary   \n",
            "\n",
            "         Umpire2  \n",
            "0    Nitin Menon  \n",
            "1    Nitin Menon  \n",
            "2       MA Gough  \n",
            "3      VK Sharma  \n",
            "4  NA Patwardhan  \n"
          ]
        }
      ]
    },
    {
      "cell_type": "code",
      "source": [
        "data.shape"
      ],
      "metadata": {
        "id": "qI9ko3gwqY16",
        "outputId": "2c35bf54-61e4-44c0-e7cd-4a992708a2a9",
        "colab": {
          "base_uri": "https://localhost:8080/"
        }
      },
      "execution_count": null,
      "outputs": [
        {
          "output_type": "execute_result",
          "data": {
            "text/plain": [
              "(950, 20)"
            ]
          },
          "metadata": {},
          "execution_count": 5
        }
      ]
    },
    {
      "cell_type": "code",
      "source": [
        "data['WinningTeam'].unique()"
      ],
      "metadata": {
        "colab": {
          "base_uri": "https://localhost:8080/"
        },
        "id": "xQ2m1mPFeUzi",
        "outputId": "6be25e72-5420-4495-afce-f5a78a8c1846"
      },
      "execution_count": null,
      "outputs": [
        {
          "output_type": "execute_result",
          "data": {
            "text/plain": [
              "array(['Gujarat Titans', 'Rajasthan Royals',\n",
              "       'Royal Challengers Bangalore', 'Punjab Kings', 'Mumbai Indians',\n",
              "       'Lucknow Super Giants', 'Sunrisers Hyderabad', 'Delhi Capitals',\n",
              "       'Kolkata Knight Riders', 'Chennai Super Kings', 'Kings XI Punjab',\n",
              "       nan, 'Delhi Daredevils', 'Rising Pune Supergiant', 'Gujarat Lions',\n",
              "       'Rising Pune Supergiants', 'Pune Warriors', 'Deccan Chargers',\n",
              "       'Kochi Tuskers Kerala'], dtype=object)"
            ]
          },
          "metadata": {},
          "execution_count": 6
        }
      ]
    },
    {
      "cell_type": "code",
      "source": [
        "data.isnull().sum() #checking the null values"
      ],
      "metadata": {
        "colab": {
          "base_uri": "https://localhost:8080/",
          "height": 712
        },
        "id": "a5CKkSypE-ir",
        "outputId": "17dd6690-d543-45ee-9795-1ab08aef9a3b"
      },
      "execution_count": null,
      "outputs": [
        {
          "output_type": "execute_result",
          "data": {
            "text/plain": [
              "ID                   0\n",
              "City                51\n",
              "Date                 0\n",
              "Season               0\n",
              "MatchNumber          0\n",
              "Team1                0\n",
              "Team2                0\n",
              "Venue                0\n",
              "TossWinner           0\n",
              "TossDecision         0\n",
              "SuperOver            4\n",
              "WinningTeam          4\n",
              "WonBy                0\n",
              "Margin              18\n",
              "method             931\n",
              "Player_of_Match      4\n",
              "Team1Players         0\n",
              "Team2Players         0\n",
              "Umpire1              0\n",
              "Umpire2              0\n",
              "dtype: int64"
            ],
            "text/html": [
              "<div>\n",
              "<style scoped>\n",
              "    .dataframe tbody tr th:only-of-type {\n",
              "        vertical-align: middle;\n",
              "    }\n",
              "\n",
              "    .dataframe tbody tr th {\n",
              "        vertical-align: top;\n",
              "    }\n",
              "\n",
              "    .dataframe thead th {\n",
              "        text-align: right;\n",
              "    }\n",
              "</style>\n",
              "<table border=\"1\" class=\"dataframe\">\n",
              "  <thead>\n",
              "    <tr style=\"text-align: right;\">\n",
              "      <th></th>\n",
              "      <th>0</th>\n",
              "    </tr>\n",
              "  </thead>\n",
              "  <tbody>\n",
              "    <tr>\n",
              "      <th>ID</th>\n",
              "      <td>0</td>\n",
              "    </tr>\n",
              "    <tr>\n",
              "      <th>City</th>\n",
              "      <td>51</td>\n",
              "    </tr>\n",
              "    <tr>\n",
              "      <th>Date</th>\n",
              "      <td>0</td>\n",
              "    </tr>\n",
              "    <tr>\n",
              "      <th>Season</th>\n",
              "      <td>0</td>\n",
              "    </tr>\n",
              "    <tr>\n",
              "      <th>MatchNumber</th>\n",
              "      <td>0</td>\n",
              "    </tr>\n",
              "    <tr>\n",
              "      <th>Team1</th>\n",
              "      <td>0</td>\n",
              "    </tr>\n",
              "    <tr>\n",
              "      <th>Team2</th>\n",
              "      <td>0</td>\n",
              "    </tr>\n",
              "    <tr>\n",
              "      <th>Venue</th>\n",
              "      <td>0</td>\n",
              "    </tr>\n",
              "    <tr>\n",
              "      <th>TossWinner</th>\n",
              "      <td>0</td>\n",
              "    </tr>\n",
              "    <tr>\n",
              "      <th>TossDecision</th>\n",
              "      <td>0</td>\n",
              "    </tr>\n",
              "    <tr>\n",
              "      <th>SuperOver</th>\n",
              "      <td>4</td>\n",
              "    </tr>\n",
              "    <tr>\n",
              "      <th>WinningTeam</th>\n",
              "      <td>4</td>\n",
              "    </tr>\n",
              "    <tr>\n",
              "      <th>WonBy</th>\n",
              "      <td>0</td>\n",
              "    </tr>\n",
              "    <tr>\n",
              "      <th>Margin</th>\n",
              "      <td>18</td>\n",
              "    </tr>\n",
              "    <tr>\n",
              "      <th>method</th>\n",
              "      <td>931</td>\n",
              "    </tr>\n",
              "    <tr>\n",
              "      <th>Player_of_Match</th>\n",
              "      <td>4</td>\n",
              "    </tr>\n",
              "    <tr>\n",
              "      <th>Team1Players</th>\n",
              "      <td>0</td>\n",
              "    </tr>\n",
              "    <tr>\n",
              "      <th>Team2Players</th>\n",
              "      <td>0</td>\n",
              "    </tr>\n",
              "    <tr>\n",
              "      <th>Umpire1</th>\n",
              "      <td>0</td>\n",
              "    </tr>\n",
              "    <tr>\n",
              "      <th>Umpire2</th>\n",
              "      <td>0</td>\n",
              "    </tr>\n",
              "  </tbody>\n",
              "</table>\n",
              "</div><br><label><b>dtype:</b> int64</label>"
            ]
          },
          "metadata": {},
          "execution_count": 7
        }
      ]
    },
    {
      "cell_type": "markdown",
      "source": [
        "step 04 : selecting columns for Analysis"
      ],
      "metadata": {
        "id": "qs39sP5WPBBv"
      }
    },
    {
      "cell_type": "code",
      "source": [
        "# Select relevant columns for the analysis\n",
        "columns_to_use = ['City', 'Season', 'TossWinner', 'TossDecision', 'SuperOver', 'WonBy', 'Margin', 'WinningTeam']\n",
        "data = data[columns_to_use]"
      ],
      "metadata": {
        "id": "2TMRbyNYhEcR"
      },
      "execution_count": null,
      "outputs": []
    },
    {
      "cell_type": "code",
      "source": [
        "# Handle missing values\n",
        "# Fill missing numerical values with the median\n",
        "data['Margin'] = data['Margin'].fillna(data['Margin'].median())\n",
        "# Fill missing categorical values with 'Unknown'\n",
        "data.fillna('Unknown', inplace=True)"
      ],
      "metadata": {
        "id": "jaf97_rShLqL"
      },
      "execution_count": null,
      "outputs": []
    },
    {
      "cell_type": "code",
      "source": [
        "data"
      ],
      "metadata": {
        "colab": {
          "base_uri": "https://localhost:8080/",
          "height": 423
        },
        "id": "TlgphGwecS-3",
        "outputId": "315619ed-1169-4c80-8039-3febfd8c8d14"
      },
      "execution_count": null,
      "outputs": [
        {
          "output_type": "execute_result",
          "data": {
            "text/plain": [
              "           City   Season                   TossWinner TossDecision SuperOver  \\\n",
              "0     Ahmedabad     2022             Rajasthan Royals          bat         N   \n",
              "1     Ahmedabad     2022             Rajasthan Royals        field         N   \n",
              "2       Kolkata     2022         Lucknow Super Giants        field         N   \n",
              "3       Kolkata     2022               Gujarat Titans        field         N   \n",
              "4        Mumbai     2022          Sunrisers Hyderabad          bat         N   \n",
              "..          ...      ...                          ...          ...       ...   \n",
              "945     Kolkata  2007/08              Deccan Chargers          bat         N   \n",
              "946      Mumbai  2007/08               Mumbai Indians          bat         N   \n",
              "947       Delhi  2007/08             Rajasthan Royals          bat         N   \n",
              "948  Chandigarh  2007/08          Chennai Super Kings          bat         N   \n",
              "949   Bangalore  2007/08  Royal Challengers Bangalore        field         N   \n",
              "\n",
              "       WonBy  Margin                  WinningTeam  \n",
              "0    Wickets     7.0               Gujarat Titans  \n",
              "1    Wickets     7.0             Rajasthan Royals  \n",
              "2       Runs    14.0  Royal Challengers Bangalore  \n",
              "3    Wickets     7.0               Gujarat Titans  \n",
              "4    Wickets     5.0                 Punjab Kings  \n",
              "..       ...     ...                          ...  \n",
              "945  Wickets     5.0        Kolkata Knight Riders  \n",
              "946  Wickets     5.0  Royal Challengers Bangalore  \n",
              "947  Wickets     9.0             Delhi Daredevils  \n",
              "948     Runs    33.0          Chennai Super Kings  \n",
              "949     Runs   140.0        Kolkata Knight Riders  \n",
              "\n",
              "[950 rows x 8 columns]"
            ],
            "text/html": [
              "\n",
              "  <div id=\"df-3434fc6c-0311-432d-b333-e56e46679a0b\" class=\"colab-df-container\">\n",
              "    <div>\n",
              "<style scoped>\n",
              "    .dataframe tbody tr th:only-of-type {\n",
              "        vertical-align: middle;\n",
              "    }\n",
              "\n",
              "    .dataframe tbody tr th {\n",
              "        vertical-align: top;\n",
              "    }\n",
              "\n",
              "    .dataframe thead th {\n",
              "        text-align: right;\n",
              "    }\n",
              "</style>\n",
              "<table border=\"1\" class=\"dataframe\">\n",
              "  <thead>\n",
              "    <tr style=\"text-align: right;\">\n",
              "      <th></th>\n",
              "      <th>City</th>\n",
              "      <th>Season</th>\n",
              "      <th>TossWinner</th>\n",
              "      <th>TossDecision</th>\n",
              "      <th>SuperOver</th>\n",
              "      <th>WonBy</th>\n",
              "      <th>Margin</th>\n",
              "      <th>WinningTeam</th>\n",
              "    </tr>\n",
              "  </thead>\n",
              "  <tbody>\n",
              "    <tr>\n",
              "      <th>0</th>\n",
              "      <td>Ahmedabad</td>\n",
              "      <td>2022</td>\n",
              "      <td>Rajasthan Royals</td>\n",
              "      <td>bat</td>\n",
              "      <td>N</td>\n",
              "      <td>Wickets</td>\n",
              "      <td>7.0</td>\n",
              "      <td>Gujarat Titans</td>\n",
              "    </tr>\n",
              "    <tr>\n",
              "      <th>1</th>\n",
              "      <td>Ahmedabad</td>\n",
              "      <td>2022</td>\n",
              "      <td>Rajasthan Royals</td>\n",
              "      <td>field</td>\n",
              "      <td>N</td>\n",
              "      <td>Wickets</td>\n",
              "      <td>7.0</td>\n",
              "      <td>Rajasthan Royals</td>\n",
              "    </tr>\n",
              "    <tr>\n",
              "      <th>2</th>\n",
              "      <td>Kolkata</td>\n",
              "      <td>2022</td>\n",
              "      <td>Lucknow Super Giants</td>\n",
              "      <td>field</td>\n",
              "      <td>N</td>\n",
              "      <td>Runs</td>\n",
              "      <td>14.0</td>\n",
              "      <td>Royal Challengers Bangalore</td>\n",
              "    </tr>\n",
              "    <tr>\n",
              "      <th>3</th>\n",
              "      <td>Kolkata</td>\n",
              "      <td>2022</td>\n",
              "      <td>Gujarat Titans</td>\n",
              "      <td>field</td>\n",
              "      <td>N</td>\n",
              "      <td>Wickets</td>\n",
              "      <td>7.0</td>\n",
              "      <td>Gujarat Titans</td>\n",
              "    </tr>\n",
              "    <tr>\n",
              "      <th>4</th>\n",
              "      <td>Mumbai</td>\n",
              "      <td>2022</td>\n",
              "      <td>Sunrisers Hyderabad</td>\n",
              "      <td>bat</td>\n",
              "      <td>N</td>\n",
              "      <td>Wickets</td>\n",
              "      <td>5.0</td>\n",
              "      <td>Punjab Kings</td>\n",
              "    </tr>\n",
              "    <tr>\n",
              "      <th>...</th>\n",
              "      <td>...</td>\n",
              "      <td>...</td>\n",
              "      <td>...</td>\n",
              "      <td>...</td>\n",
              "      <td>...</td>\n",
              "      <td>...</td>\n",
              "      <td>...</td>\n",
              "      <td>...</td>\n",
              "    </tr>\n",
              "    <tr>\n",
              "      <th>945</th>\n",
              "      <td>Kolkata</td>\n",
              "      <td>2007/08</td>\n",
              "      <td>Deccan Chargers</td>\n",
              "      <td>bat</td>\n",
              "      <td>N</td>\n",
              "      <td>Wickets</td>\n",
              "      <td>5.0</td>\n",
              "      <td>Kolkata Knight Riders</td>\n",
              "    </tr>\n",
              "    <tr>\n",
              "      <th>946</th>\n",
              "      <td>Mumbai</td>\n",
              "      <td>2007/08</td>\n",
              "      <td>Mumbai Indians</td>\n",
              "      <td>bat</td>\n",
              "      <td>N</td>\n",
              "      <td>Wickets</td>\n",
              "      <td>5.0</td>\n",
              "      <td>Royal Challengers Bangalore</td>\n",
              "    </tr>\n",
              "    <tr>\n",
              "      <th>947</th>\n",
              "      <td>Delhi</td>\n",
              "      <td>2007/08</td>\n",
              "      <td>Rajasthan Royals</td>\n",
              "      <td>bat</td>\n",
              "      <td>N</td>\n",
              "      <td>Wickets</td>\n",
              "      <td>9.0</td>\n",
              "      <td>Delhi Daredevils</td>\n",
              "    </tr>\n",
              "    <tr>\n",
              "      <th>948</th>\n",
              "      <td>Chandigarh</td>\n",
              "      <td>2007/08</td>\n",
              "      <td>Chennai Super Kings</td>\n",
              "      <td>bat</td>\n",
              "      <td>N</td>\n",
              "      <td>Runs</td>\n",
              "      <td>33.0</td>\n",
              "      <td>Chennai Super Kings</td>\n",
              "    </tr>\n",
              "    <tr>\n",
              "      <th>949</th>\n",
              "      <td>Bangalore</td>\n",
              "      <td>2007/08</td>\n",
              "      <td>Royal Challengers Bangalore</td>\n",
              "      <td>field</td>\n",
              "      <td>N</td>\n",
              "      <td>Runs</td>\n",
              "      <td>140.0</td>\n",
              "      <td>Kolkata Knight Riders</td>\n",
              "    </tr>\n",
              "  </tbody>\n",
              "</table>\n",
              "<p>950 rows × 8 columns</p>\n",
              "</div>\n",
              "    <div class=\"colab-df-buttons\">\n",
              "\n",
              "  <div class=\"colab-df-container\">\n",
              "    <button class=\"colab-df-convert\" onclick=\"convertToInteractive('df-3434fc6c-0311-432d-b333-e56e46679a0b')\"\n",
              "            title=\"Convert this dataframe to an interactive table.\"\n",
              "            style=\"display:none;\">\n",
              "\n",
              "  <svg xmlns=\"http://www.w3.org/2000/svg\" height=\"24px\" viewBox=\"0 -960 960 960\">\n",
              "    <path d=\"M120-120v-720h720v720H120Zm60-500h600v-160H180v160Zm220 220h160v-160H400v160Zm0 220h160v-160H400v160ZM180-400h160v-160H180v160Zm440 0h160v-160H620v160ZM180-180h160v-160H180v160Zm440 0h160v-160H620v160Z\"/>\n",
              "  </svg>\n",
              "    </button>\n",
              "\n",
              "  <style>\n",
              "    .colab-df-container {\n",
              "      display:flex;\n",
              "      gap: 12px;\n",
              "    }\n",
              "\n",
              "    .colab-df-convert {\n",
              "      background-color: #E8F0FE;\n",
              "      border: none;\n",
              "      border-radius: 50%;\n",
              "      cursor: pointer;\n",
              "      display: none;\n",
              "      fill: #1967D2;\n",
              "      height: 32px;\n",
              "      padding: 0 0 0 0;\n",
              "      width: 32px;\n",
              "    }\n",
              "\n",
              "    .colab-df-convert:hover {\n",
              "      background-color: #E2EBFA;\n",
              "      box-shadow: 0px 1px 2px rgba(60, 64, 67, 0.3), 0px 1px 3px 1px rgba(60, 64, 67, 0.15);\n",
              "      fill: #174EA6;\n",
              "    }\n",
              "\n",
              "    .colab-df-buttons div {\n",
              "      margin-bottom: 4px;\n",
              "    }\n",
              "\n",
              "    [theme=dark] .colab-df-convert {\n",
              "      background-color: #3B4455;\n",
              "      fill: #D2E3FC;\n",
              "    }\n",
              "\n",
              "    [theme=dark] .colab-df-convert:hover {\n",
              "      background-color: #434B5C;\n",
              "      box-shadow: 0px 1px 3px 1px rgba(0, 0, 0, 0.15);\n",
              "      filter: drop-shadow(0px 1px 2px rgba(0, 0, 0, 0.3));\n",
              "      fill: #FFFFFF;\n",
              "    }\n",
              "  </style>\n",
              "\n",
              "    <script>\n",
              "      const buttonEl =\n",
              "        document.querySelector('#df-3434fc6c-0311-432d-b333-e56e46679a0b button.colab-df-convert');\n",
              "      buttonEl.style.display =\n",
              "        google.colab.kernel.accessAllowed ? 'block' : 'none';\n",
              "\n",
              "      async function convertToInteractive(key) {\n",
              "        const element = document.querySelector('#df-3434fc6c-0311-432d-b333-e56e46679a0b');\n",
              "        const dataTable =\n",
              "          await google.colab.kernel.invokeFunction('convertToInteractive',\n",
              "                                                    [key], {});\n",
              "        if (!dataTable) return;\n",
              "\n",
              "        const docLinkHtml = 'Like what you see? Visit the ' +\n",
              "          '<a target=\"_blank\" href=https://colab.research.google.com/notebooks/data_table.ipynb>data table notebook</a>'\n",
              "          + ' to learn more about interactive tables.';\n",
              "        element.innerHTML = '';\n",
              "        dataTable['output_type'] = 'display_data';\n",
              "        await google.colab.output.renderOutput(dataTable, element);\n",
              "        const docLink = document.createElement('div');\n",
              "        docLink.innerHTML = docLinkHtml;\n",
              "        element.appendChild(docLink);\n",
              "      }\n",
              "    </script>\n",
              "  </div>\n",
              "\n",
              "\n",
              "<div id=\"df-5fb8b04c-bc15-4725-9bb2-a2852b152b8d\">\n",
              "  <button class=\"colab-df-quickchart\" onclick=\"quickchart('df-5fb8b04c-bc15-4725-9bb2-a2852b152b8d')\"\n",
              "            title=\"Suggest charts\"\n",
              "            style=\"display:none;\">\n",
              "\n",
              "<svg xmlns=\"http://www.w3.org/2000/svg\" height=\"24px\"viewBox=\"0 0 24 24\"\n",
              "     width=\"24px\">\n",
              "    <g>\n",
              "        <path d=\"M19 3H5c-1.1 0-2 .9-2 2v14c0 1.1.9 2 2 2h14c1.1 0 2-.9 2-2V5c0-1.1-.9-2-2-2zM9 17H7v-7h2v7zm4 0h-2V7h2v10zm4 0h-2v-4h2v4z\"/>\n",
              "    </g>\n",
              "</svg>\n",
              "  </button>\n",
              "\n",
              "<style>\n",
              "  .colab-df-quickchart {\n",
              "      --bg-color: #E8F0FE;\n",
              "      --fill-color: #1967D2;\n",
              "      --hover-bg-color: #E2EBFA;\n",
              "      --hover-fill-color: #174EA6;\n",
              "      --disabled-fill-color: #AAA;\n",
              "      --disabled-bg-color: #DDD;\n",
              "  }\n",
              "\n",
              "  [theme=dark] .colab-df-quickchart {\n",
              "      --bg-color: #3B4455;\n",
              "      --fill-color: #D2E3FC;\n",
              "      --hover-bg-color: #434B5C;\n",
              "      --hover-fill-color: #FFFFFF;\n",
              "      --disabled-bg-color: #3B4455;\n",
              "      --disabled-fill-color: #666;\n",
              "  }\n",
              "\n",
              "  .colab-df-quickchart {\n",
              "    background-color: var(--bg-color);\n",
              "    border: none;\n",
              "    border-radius: 50%;\n",
              "    cursor: pointer;\n",
              "    display: none;\n",
              "    fill: var(--fill-color);\n",
              "    height: 32px;\n",
              "    padding: 0;\n",
              "    width: 32px;\n",
              "  }\n",
              "\n",
              "  .colab-df-quickchart:hover {\n",
              "    background-color: var(--hover-bg-color);\n",
              "    box-shadow: 0 1px 2px rgba(60, 64, 67, 0.3), 0 1px 3px 1px rgba(60, 64, 67, 0.15);\n",
              "    fill: var(--button-hover-fill-color);\n",
              "  }\n",
              "\n",
              "  .colab-df-quickchart-complete:disabled,\n",
              "  .colab-df-quickchart-complete:disabled:hover {\n",
              "    background-color: var(--disabled-bg-color);\n",
              "    fill: var(--disabled-fill-color);\n",
              "    box-shadow: none;\n",
              "  }\n",
              "\n",
              "  .colab-df-spinner {\n",
              "    border: 2px solid var(--fill-color);\n",
              "    border-color: transparent;\n",
              "    border-bottom-color: var(--fill-color);\n",
              "    animation:\n",
              "      spin 1s steps(1) infinite;\n",
              "  }\n",
              "\n",
              "  @keyframes spin {\n",
              "    0% {\n",
              "      border-color: transparent;\n",
              "      border-bottom-color: var(--fill-color);\n",
              "      border-left-color: var(--fill-color);\n",
              "    }\n",
              "    20% {\n",
              "      border-color: transparent;\n",
              "      border-left-color: var(--fill-color);\n",
              "      border-top-color: var(--fill-color);\n",
              "    }\n",
              "    30% {\n",
              "      border-color: transparent;\n",
              "      border-left-color: var(--fill-color);\n",
              "      border-top-color: var(--fill-color);\n",
              "      border-right-color: var(--fill-color);\n",
              "    }\n",
              "    40% {\n",
              "      border-color: transparent;\n",
              "      border-right-color: var(--fill-color);\n",
              "      border-top-color: var(--fill-color);\n",
              "    }\n",
              "    60% {\n",
              "      border-color: transparent;\n",
              "      border-right-color: var(--fill-color);\n",
              "    }\n",
              "    80% {\n",
              "      border-color: transparent;\n",
              "      border-right-color: var(--fill-color);\n",
              "      border-bottom-color: var(--fill-color);\n",
              "    }\n",
              "    90% {\n",
              "      border-color: transparent;\n",
              "      border-bottom-color: var(--fill-color);\n",
              "    }\n",
              "  }\n",
              "</style>\n",
              "\n",
              "  <script>\n",
              "    async function quickchart(key) {\n",
              "      const quickchartButtonEl =\n",
              "        document.querySelector('#' + key + ' button');\n",
              "      quickchartButtonEl.disabled = true;  // To prevent multiple clicks.\n",
              "      quickchartButtonEl.classList.add('colab-df-spinner');\n",
              "      try {\n",
              "        const charts = await google.colab.kernel.invokeFunction(\n",
              "            'suggestCharts', [key], {});\n",
              "      } catch (error) {\n",
              "        console.error('Error during call to suggestCharts:', error);\n",
              "      }\n",
              "      quickchartButtonEl.classList.remove('colab-df-spinner');\n",
              "      quickchartButtonEl.classList.add('colab-df-quickchart-complete');\n",
              "    }\n",
              "    (() => {\n",
              "      let quickchartButtonEl =\n",
              "        document.querySelector('#df-5fb8b04c-bc15-4725-9bb2-a2852b152b8d button');\n",
              "      quickchartButtonEl.style.display =\n",
              "        google.colab.kernel.accessAllowed ? 'block' : 'none';\n",
              "    })();\n",
              "  </script>\n",
              "</div>\n",
              "\n",
              "  <div id=\"id_a39aaf02-f6e2-4ee0-ab2d-9adb5d37b6c1\">\n",
              "    <style>\n",
              "      .colab-df-generate {\n",
              "        background-color: #E8F0FE;\n",
              "        border: none;\n",
              "        border-radius: 50%;\n",
              "        cursor: pointer;\n",
              "        display: none;\n",
              "        fill: #1967D2;\n",
              "        height: 32px;\n",
              "        padding: 0 0 0 0;\n",
              "        width: 32px;\n",
              "      }\n",
              "\n",
              "      .colab-df-generate:hover {\n",
              "        background-color: #E2EBFA;\n",
              "        box-shadow: 0px 1px 2px rgba(60, 64, 67, 0.3), 0px 1px 3px 1px rgba(60, 64, 67, 0.15);\n",
              "        fill: #174EA6;\n",
              "      }\n",
              "\n",
              "      [theme=dark] .colab-df-generate {\n",
              "        background-color: #3B4455;\n",
              "        fill: #D2E3FC;\n",
              "      }\n",
              "\n",
              "      [theme=dark] .colab-df-generate:hover {\n",
              "        background-color: #434B5C;\n",
              "        box-shadow: 0px 1px 3px 1px rgba(0, 0, 0, 0.15);\n",
              "        filter: drop-shadow(0px 1px 2px rgba(0, 0, 0, 0.3));\n",
              "        fill: #FFFFFF;\n",
              "      }\n",
              "    </style>\n",
              "    <button class=\"colab-df-generate\" onclick=\"generateWithVariable('data')\"\n",
              "            title=\"Generate code using this dataframe.\"\n",
              "            style=\"display:none;\">\n",
              "\n",
              "  <svg xmlns=\"http://www.w3.org/2000/svg\" height=\"24px\"viewBox=\"0 0 24 24\"\n",
              "       width=\"24px\">\n",
              "    <path d=\"M7,19H8.4L18.45,9,17,7.55,7,17.6ZM5,21V16.75L18.45,3.32a2,2,0,0,1,2.83,0l1.4,1.43a1.91,1.91,0,0,1,.58,1.4,1.91,1.91,0,0,1-.58,1.4L9.25,21ZM18.45,9,17,7.55Zm-12,3A5.31,5.31,0,0,0,4.9,8.1,5.31,5.31,0,0,0,1,6.5,5.31,5.31,0,0,0,4.9,4.9,5.31,5.31,0,0,0,6.5,1,5.31,5.31,0,0,0,8.1,4.9,5.31,5.31,0,0,0,12,6.5,5.46,5.46,0,0,0,6.5,12Z\"/>\n",
              "  </svg>\n",
              "    </button>\n",
              "    <script>\n",
              "      (() => {\n",
              "      const buttonEl =\n",
              "        document.querySelector('#id_a39aaf02-f6e2-4ee0-ab2d-9adb5d37b6c1 button.colab-df-generate');\n",
              "      buttonEl.style.display =\n",
              "        google.colab.kernel.accessAllowed ? 'block' : 'none';\n",
              "\n",
              "      buttonEl.onclick = () => {\n",
              "        google.colab.notebook.generateWithVariable('data');\n",
              "      }\n",
              "      })();\n",
              "    </script>\n",
              "  </div>\n",
              "\n",
              "    </div>\n",
              "  </div>\n"
            ],
            "application/vnd.google.colaboratory.intrinsic+json": {
              "type": "dataframe",
              "variable_name": "data",
              "summary": "{\n  \"name\": \"data\",\n  \"rows\": 950,\n  \"fields\": [\n    {\n      \"column\": \"City\",\n      \"properties\": {\n        \"dtype\": \"category\",\n        \"num_unique_values\": 34,\n        \"samples\": [\n          \"Jaipur\",\n          \"Rajkot\",\n          \"Centurion\"\n        ],\n        \"semantic_type\": \"\",\n        \"description\": \"\"\n      }\n    },\n    {\n      \"column\": \"Season\",\n      \"properties\": {\n        \"dtype\": \"category\",\n        \"num_unique_values\": 15,\n        \"samples\": [\n          \"2013\",\n          \"2011\",\n          \"2022\"\n        ],\n        \"semantic_type\": \"\",\n        \"description\": \"\"\n      }\n    },\n    {\n      \"column\": \"TossWinner\",\n      \"properties\": {\n        \"dtype\": \"category\",\n        \"num_unique_values\": 18,\n        \"samples\": [\n          \"Rajasthan Royals\",\n          \"Lucknow Super Giants\",\n          \"Royal Challengers Bangalore\"\n        ],\n        \"semantic_type\": \"\",\n        \"description\": \"\"\n      }\n    },\n    {\n      \"column\": \"TossDecision\",\n      \"properties\": {\n        \"dtype\": \"category\",\n        \"num_unique_values\": 2,\n        \"samples\": [\n          \"field\",\n          \"bat\"\n        ],\n        \"semantic_type\": \"\",\n        \"description\": \"\"\n      }\n    },\n    {\n      \"column\": \"SuperOver\",\n      \"properties\": {\n        \"dtype\": \"category\",\n        \"num_unique_values\": 3,\n        \"samples\": [\n          \"N\",\n          \"Y\"\n        ],\n        \"semantic_type\": \"\",\n        \"description\": \"\"\n      }\n    },\n    {\n      \"column\": \"WonBy\",\n      \"properties\": {\n        \"dtype\": \"category\",\n        \"num_unique_values\": 4,\n        \"samples\": [\n          \"Runs\",\n          \"NoResults\"\n        ],\n        \"semantic_type\": \"\",\n        \"description\": \"\"\n      }\n    },\n    {\n      \"column\": \"Margin\",\n      \"properties\": {\n        \"dtype\": \"number\",\n        \"std\": 21.462553310575245,\n        \"min\": 1.0,\n        \"max\": 146.0,\n        \"num_unique_values\": 94,\n        \"samples\": [\n          45.0,\n          9.0\n        ],\n        \"semantic_type\": \"\",\n        \"description\": \"\"\n      }\n    },\n    {\n      \"column\": \"WinningTeam\",\n      \"properties\": {\n        \"dtype\": \"category\",\n        \"num_unique_values\": 19,\n        \"samples\": [\n          \"Gujarat Titans\",\n          \"Lucknow Super Giants\"\n        ],\n        \"semantic_type\": \"\",\n        \"description\": \"\"\n      }\n    }\n  ]\n}"
            }
          },
          "metadata": {},
          "execution_count": 10
        }
      ]
    },
    {
      "cell_type": "markdown",
      "source": [
        "step 05 : using label encoder for categorical variables\n",
        "\n",
        "By using label encoder :-\n",
        "\n",
        "* ML algorithms, such as Logistic Regression, SVM, and Random Forest, cannot process categorical data directly. Converting categorical data to numeric values makes it suitable for these models.\n",
        "\n",
        "* In my IPL dataset, columns like City, Season, TossWinner, TossDecision, and WinningTeam are categorical and need to be encoded for the model to process them."
      ],
      "metadata": {
        "id": "lZBfr49pPSAz"
      }
    },
    {
      "cell_type": "code",
      "source": [
        "# Encode categorical variables using LabelEncoder\n",
        "label_encoders = {}\n",
        "for col in ['City', 'Season', 'TossWinner', 'TossDecision', 'SuperOver', 'WonBy', 'WinningTeam']:\n",
        "    le = LabelEncoder()\n",
        "    data[col] = le.fit_transform(data[col])\n",
        "    label_encoders[col] = le"
      ],
      "metadata": {
        "id": "6ZpysyRjopiG"
      },
      "execution_count": null,
      "outputs": []
    },
    {
      "cell_type": "markdown",
      "source": [
        "step 06 : split the data and mention the target variable"
      ],
      "metadata": {
        "id": "wkLVci31Q-Qh"
      }
    },
    {
      "cell_type": "code",
      "source": [
        "# Split the data into features and target\n",
        "X = data.drop(columns=['WinningTeam'])\n",
        "y = data['WinningTeam']"
      ],
      "metadata": {
        "id": "kzeTGsNRqNv9"
      },
      "execution_count": null,
      "outputs": []
    },
    {
      "cell_type": "markdown",
      "source": [
        "step 07 : standardize the feature  \n",
        "\n",
        "We use StandardScaler to standardize features by scaling them to have a mean of 0 and a standard deviation of 1. This transformation ensures that all features contribute equally to the model's learning process, preventing some features with larger ranges from dominating the model.\n",
        "\n",
        "In my IPL dataset:\n",
        "\n",
        "* Features like Margin (numerical) and encoded features (like City, Season) have different ranges.\n",
        "* By applying StandardScaler, the features are scaled uniformly, ensuring the models treat them equally.\n",
        "\n",
        "\n",
        "Using StandardScaler ensures that the model's performance is robust and not biased by the scale of individual features.\n",
        "\n"
      ],
      "metadata": {
        "id": "IuGSygGFRqRu"
      }
    },
    {
      "cell_type": "code",
      "source": [
        "# Standardize features\n",
        "scaler = StandardScaler()\n",
        "X_scaled = scaler.fit_transform(X)"
      ],
      "metadata": {
        "id": "j_2InM_wqboM"
      },
      "execution_count": null,
      "outputs": []
    },
    {
      "cell_type": "markdown",
      "source": [
        "step 08 : split the data into train and test sets"
      ],
      "metadata": {
        "id": "iilRAjk5SkMj"
      }
    },
    {
      "cell_type": "code",
      "source": [
        "# Split data into training and testing sets\n",
        "X_train, X_test, y_train, y_test = train_test_split(X_scaled, y, test_size=0.2, random_state=42)"
      ],
      "metadata": {
        "id": "i4rC3120hVz5"
      },
      "execution_count": null,
      "outputs": []
    },
    {
      "cell_type": "markdown",
      "source": [
        "step 09 : defining the machine learning models for project"
      ],
      "metadata": {
        "id": "f3IIoKSBSyt0"
      }
    },
    {
      "cell_type": "code",
      "source": [
        "# Define a dictionary of algorithms\n",
        "models = {\n",
        "    'Logistic Regression': LogisticRegression(),\n",
        "    'SVM': SVC(),\n",
        "    'Random Forest': RandomForestClassifier(),\n",
        "    'Decision Tree': DecisionTreeClassifier(),\n",
        "    'K-Nearest Neighbors': KNeighborsClassifier(),\n",
        "    'Naive Bayes': GaussianNB(),\n",
        "}"
      ],
      "metadata": {
        "id": "G9HlTusohbgp"
      },
      "execution_count": null,
      "outputs": []
    },
    {
      "cell_type": "markdown",
      "source": [
        "step 10 : Train and evaluate models"
      ],
      "metadata": {
        "id": "QxiDoAMvTj7M"
      }
    },
    {
      "cell_type": "code",
      "source": [
        "# Train and evaluate models\n",
        "results = {}\n",
        "\n",
        "for name, model in models.items():\n",
        "    # Train the model\n",
        "    model.fit(X_train, y_train)\n",
        "    # Predict\n",
        "    y_pred = model.predict(X_test)\n",
        "    # Calculate accuracy\n",
        "    accuracy = accuracy_score(y_test, y_pred)\n",
        "    # Cross-validation score\n",
        "    cv_score = cross_val_score(model, X_scaled, y, cv=5, scoring='accuracy').mean()\n",
        "    # Store results\n",
        "    results[name] = {'Test Accuracy': accuracy, 'CV Accuracy': cv_score}"
      ],
      "metadata": {
        "id": "aziw7yIthsaW"
      },
      "execution_count": null,
      "outputs": []
    },
    {
      "cell_type": "markdown",
      "source": [
        "step 11 : Displaying the results by compairing all the models with the dataset"
      ],
      "metadata": {
        "id": "PaYaJlUpT1KE"
      }
    },
    {
      "cell_type": "code",
      "source": [
        "# Display results\n",
        "results_df = pd.DataFrame(results).T\n",
        "results_df = results_df.sort_values(by='CV Accuracy', ascending=False)\n",
        "print(\"\\nModel Comparison:\")\n",
        "print(results_df)"
      ],
      "metadata": {
        "colab": {
          "base_uri": "https://localhost:8080/"
        },
        "id": "ughzP7Z1h6FJ",
        "outputId": "02ec16dc-df84-4925-e469-95f40db90b4d"
      },
      "execution_count": null,
      "outputs": [
        {
          "output_type": "stream",
          "name": "stdout",
          "text": [
            "\n",
            "Model Comparison:\n",
            "                     Test Accuracy  CV Accuracy\n",
            "Decision Tree             0.521053     0.452632\n",
            "Random Forest             0.563158     0.390526\n",
            "K-Nearest Neighbors       0.447368     0.310526\n",
            "SVM                       0.315789     0.287368\n",
            "Logistic Regression       0.247368     0.197895\n",
            "Naive Bayes               0.205263     0.137895\n"
          ]
        }
      ]
    },
    {
      "cell_type": "markdown",
      "source": [
        "Random forest is the best model to define the ipl matches prediction Dataset.\n",
        "\n",
        "Random Forest often outperforms other machine learning models due to its ensemble approach, which combines multiple decision trees to improve predictive accuracy and control overfitting. Each tree in the forest is trained on a random subset of the data and features, which enhances its robustness against noisy data and variability in the dataset. This model excels in handling datasets with categorical and numerical variables, managing missing values, and capturing complex interactions between features. In the context of your IPL dataset, Random Forest likely achieved the best performance because it effectively captured patterns and relationships in the features, such as the influence of toss decisions, match locations, and margins of victory, while minimizing overfitting through averaging predictions across numerous trees."
      ],
      "metadata": {
        "id": "FxVujr8lKzgw"
      }
    },
    {
      "cell_type": "markdown",
      "source": [
        "step 12 : plotting the models according to the accuracy and cross-vallidation scores"
      ],
      "metadata": {
        "id": "vxDixYbpUJoD"
      }
    },
    {
      "cell_type": "code",
      "source": [
        "# Visualize results\n",
        "import matplotlib.pyplot as plt\n",
        "results_df.plot(kind='bar', figsize=(12, 6))\n",
        "plt.title('Model Accuracy Comparison')\n",
        "plt.ylabel('Accuracy')\n",
        "plt.xticks(rotation=45)\n",
        "plt.show()"
      ],
      "metadata": {
        "colab": {
          "base_uri": "https://localhost:8080/",
          "height": 641
        },
        "id": "JJcW7wTtiCFZ",
        "outputId": "8d0e3edc-5792-469a-c3a2-1686f4bc4a18"
      },
      "execution_count": null,
      "outputs": [
        {
          "output_type": "display_data",
          "data": {
            "text/plain": [
              "<Figure size 1200x600 with 1 Axes>"
            ],
            "image/png": "[encoded data removed]"
          },
          "metadata": {}
        }
      ]
    }
  ]
}